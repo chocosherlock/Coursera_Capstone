{
 "cells": [
  {
   "cell_type": "markdown",
   "metadata": {
    "collapsed": true
   },
   "source": [
    "<h1>Capstone Project - Battle of Neighborhoods</h1>\n",
    "<h2>Applied Data Science Capstone</h2>"
   ]
  },
  {
   "cell_type": "markdown",
   "metadata": {},
   "source": [
    "<h3>Introduction to Business Problem</h3>"
   ]
  },
  {
   "cell_type": "markdown",
   "metadata": {},
   "source": [
    "<h4>Opening a new Italian Restaurant in Muscat, Oman</h4>"
   ]
  },
  {
   "cell_type": "markdown",
   "metadata": {},
   "source": [
    "&lt;t&gt;We have a customer, \"ABC &amp; sons\" and they want us to analyse the most profitable location for their next Italian food outlet.  The objective of this report is to determine the best possible location to open an Italian Restaurant in Muscat, Oman considering the different localities in the city, already established Italian restaurants in various geographical location and ease of accessibility to the location. So that the revenue from the latest venture can be maximized.&lt;/t&gt;"
   ]
  },
  {
   "cell_type": "markdown",
   "metadata": {},
   "source": [
    "<h3>Data</h3>"
   ]
  },
  {
   "cell_type": "markdown",
   "metadata": {},
   "source": [
    "&lt;t&gt;Data Sources &lt;/t&gt;\n",
    "<ul>\n",
    "    <li>Geopy - For getting the co-ordinated of different locations.</li>\n",
    "    <li>Foursquare API - To get the list of venues and their details</li>\n",
    "</ul>"
   ]
  }
 ],
 "metadata": {
  "kernelspec": {
   "display_name": "Python 3.6",
   "language": "python",
   "name": "python36"
  },
  "language_info": {
   "codemirror_mode": {
    "name": "ipython",
    "version": 3
   },
   "file_extension": ".py",
   "mimetype": "text/x-python",
   "name": "python",
   "nbconvert_exporter": "python",
   "pygments_lexer": "ipython3",
   "version": "3.6.6"
  }
 },
 "nbformat": 4,
 "nbformat_minor": 2
}
